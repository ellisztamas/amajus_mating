{
 "cells": [
  {
   "cell_type": "code",
   "execution_count": 1,
   "metadata": {},
   "outputs": [
    {
     "name": "stdout",
     "output_type": "stream",
     "text": [
      "Setting up genotype, flower-colour and GPS information using FAPS version 2.7.2.\n",
      "\n"
     ]
    }
   ],
   "source": [
    "import numpy as np\n",
    "import os\n",
    "\n",
    "import faps as fp\n",
    "\n",
    "os.chdir(\"../../\")\n",
    "\n",
    "# FAPS objects and distance matrices are generated in a separate script.\n",
    "\n",
    "exec(open('003.scripts/setup_FAPS_GPS.py').read())\n"
   ]
  },
  {
   "cell_type": "code",
   "execution_count": 2,
   "metadata": {},
   "outputs": [
    {
     "data": {
      "text/plain": [
       "0.17502066865520577"
      ]
     },
     "execution_count": 2,
     "metadata": {},
     "output_type": "execute_result"
    }
   ],
   "source": [
    "# estimate the number of missing pollen donors\n",
    "am_data.update_missing_dads(0.7)\n",
    "sc = fp.sibship_clustering(am_data.paternity)\n",
    "me = fp.summarise_sires(sc)\n",
    "np.average(me['father'].isnull(), weights = me['prob'])"
   ]
  },
  {
   "cell_type": "code",
   "execution_count": 25,
   "metadata": {},
   "outputs": [
    {
     "name": "stdout",
     "output_type": "stream",
     "text": [
      "0.3282520325203252\n",
      "0.3355568299047566\n"
     ]
    }
   ],
   "source": [
    "# Estimate number of offspring whose father is absent\n",
    "pd.set_option('max_rows', None)\n",
    "\n",
    "am_data.update_missing_dads(0.4)\n",
    "sc = fp.sibship_clustering(am_data.paternity)\n",
    "# sp = top_dads_across_families(sibships=sc, progeny=progeny)\n",
    "sp = fp.summarise_paternity(sibships=sc)\n",
    "\n",
    "print((sp['candidate_1'] == \"missing\").mean())"
   ]
  },
  {
   "cell_type": "code",
   "execution_count": 26,
   "metadata": {},
   "outputs": [
    {
     "name": "stdout",
     "output_type": "stream",
     "text": [
      "0.3355568299047566\n"
     ]
    }
   ],
   "source": [
    "# Estimate number of orphans from posterior probabilities\n",
    "from_array = np.array([np.exp(v.posterior_paternity_matrix()[: , -1]).sum() for v in sc.values()]).sum()\n",
    "N = np.array([len(x.offspring) for x in am_data.paternity.values()]).sum()\n",
    "print(from_array / N)"
   ]
  }
 ],
 "metadata": {
  "interpreter": {
   "hash": "916dbcbb3f70747c44a77c7bcd40155683ae19c65e1c03b4aa3499c5328201f1"
  },
  "kernelspec": {
   "display_name": "Python 3",
   "language": "python",
   "name": "python3"
  },
  "language_info": {
   "codemirror_mode": {
    "name": "ipython",
    "version": 3
   },
   "file_extension": ".py",
   "mimetype": "text/x-python",
   "name": "python",
   "nbconvert_exporter": "python",
   "pygments_lexer": "ipython3",
   "version": "3.8.10"
  }
 },
 "nbformat": 4,
 "nbformat_minor": 4
}
